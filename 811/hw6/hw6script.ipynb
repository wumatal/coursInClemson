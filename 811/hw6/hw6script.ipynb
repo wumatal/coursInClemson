{
 "cells": [
  {
   "cell_type": "code",
   "execution_count": 4,
   "metadata": {
    "collapsed": true
   },
   "outputs": [],
   "source": [
    "%matplotlib inline"
   ]
  },
  {
   "cell_type": "code",
   "execution_count": 5,
   "metadata": {
    "collapsed": true
   },
   "outputs": [],
   "source": [
    "import matplotlib.pyplot as plt\n",
    "import numpy as np"
   ]
  },
  {
   "cell_type": "code",
   "execution_count": 81,
   "metadata": {},
   "outputs": [],
   "source": [
    "fname = \"markers.td\"\n",
    "# Read all frames from 'markers.td'.\n",
    "frames = np.loadtxt(fname, skiprows=1, usecols=range(1,49))"
   ]
  },
  {
   "cell_type": "code",
   "execution_count": 82,
   "metadata": {},
   "outputs": [
    {
     "name": "stdout",
     "output_type": "stream",
     "text": [
      "[[  0.7986  59.4959   5.4105 ...,   4.0318   5.2972   0.5658]\n",
      " [  0.7704  59.4979   5.3887 ...,   4.0322   5.2155   0.5308]\n",
      " [  0.7514  59.4979   5.3779 ...,   4.0383   5.1358   0.5046]\n",
      " ..., \n",
      " [ -4.3339  55.5245  21.779  ...,  57.0201  17.769    5.246 ]\n",
      " [ -0.6874  57.3425  17.4693 ...,  28.442   15.5185  -0.7933]\n",
      " [  1.6422  58.3416  13.8355 ...,   8.3748  11.1844  -2.5345]]\n"
     ]
    }
   ],
   "source": [
    "print(frames)"
   ]
  },
  {
   "cell_type": "code",
   "execution_count": 83,
   "metadata": {},
   "outputs": [
    {
     "data": {
      "text/plain": [
       "(669, 48)"
      ]
     },
     "execution_count": 83,
     "metadata": {},
     "output_type": "execute_result"
    }
   ],
   "source": [
    "frames.shape"
   ]
  },
  {
   "cell_type": "code",
   "execution_count": 109,
   "metadata": {},
   "outputs": [],
   "source": [
    "# Reshape the frames so that the type each element will transform to vector.\n",
    "coords = frames.reshape((669*48//3, 3))"
   ]
  },
  {
   "cell_type": "code",
   "execution_count": 110,
   "metadata": {},
   "outputs": [
    {
     "name": "stdout",
     "output_type": "stream",
     "text": [
      "[[  7.98600000e-01   5.94959000e+01   5.41050000e+00]\n",
      " [  3.35730000e+00  -2.85340000e+00   7.90800000e-01]\n",
      " [ -1.00000000e-04   2.54075000e+01   3.12240000e+00]\n",
      " ..., \n",
      " [  2.33184000e+01  -7.78370000e+00   8.70070000e+00]\n",
      " [  8.55860000e+00  -6.24875000e+01   2.82040000e+01]\n",
      " [  8.37480000e+00   1.11844000e+01  -2.53450000e+00]]\n"
     ]
    }
   ],
   "source": [
    "print(coords)"
   ]
  },
  {
   "cell_type": "code",
   "execution_count": 111,
   "metadata": {},
   "outputs": [
    {
     "data": {
      "text/plain": [
       "(10704, 3)"
      ]
     },
     "execution_count": 111,
     "metadata": {},
     "output_type": "execute_result"
    }
   ],
   "source": [
    "coords.shape"
   ]
  },
  {
   "cell_type": "code",
   "execution_count": 112,
   "metadata": {
    "collapsed": true
   },
   "outputs": [],
   "source": [
    "# Get the translation vector and rotation vector respectively.\n",
    "translates = coords[0::2]\n",
    "rotates = coords[1::2]"
   ]
  },
  {
   "cell_type": "code",
   "execution_count": 113,
   "metadata": {},
   "outputs": [
    {
     "name": "stdout",
     "output_type": "stream",
     "text": [
      "(5352, 3)\n",
      "(5352, 3)\n"
     ]
    }
   ],
   "source": [
    "print(translates.shape)\n",
    "print(rotates.shape)"
   ]
  },
  {
   "cell_type": "code",
   "execution_count": 114,
   "metadata": {},
   "outputs": [
    {
     "data": {
      "text/plain": [
       "array([[  7.98600000e-01,   5.94959000e+01,   5.41050000e+00],\n",
       "       [ -1.00000000e-04,   2.54075000e+01,   3.12240000e+00],\n",
       "       [ -1.16899000e+01,   4.23944000e+01,   2.29640000e+00],\n",
       "       ..., \n",
       "       [  1.97701000e+01,   7.59480000e+00,  -1.92509000e+01],\n",
       "       [ -9.63330000e+00,  -8.55675000e+01,  -1.76442000e+01],\n",
       "       [  8.55860000e+00,  -6.24875000e+01,   2.82040000e+01]])"
      ]
     },
     "execution_count": 114,
     "metadata": {},
     "output_type": "execute_result"
    }
   ],
   "source": [
    "translates"
   ]
  },
  {
   "cell_type": "code",
   "execution_count": 115,
   "metadata": {},
   "outputs": [
    {
     "data": {
      "text/plain": [
       "array([[  3.35730000e+00,  -2.85340000e+00,   7.90800000e-01],\n",
       "       [  6.62170000e+00,  -1.10490000e+00,  -1.37420000e+00],\n",
       "       [ -2.19070000e+00,  -1.05357000e+01,   8.12297000e+01],\n",
       "       ..., \n",
       "       [ -1.91507960e+03,  -1.87685000e+02,   1.87048490e+03],\n",
       "       [  2.33184000e+01,  -7.78370000e+00,   8.70070000e+00],\n",
       "       [  8.37480000e+00,   1.11844000e+01,  -2.53450000e+00]])"
      ]
     },
     "execution_count": 115,
     "metadata": {},
     "output_type": "execute_result"
    }
   ],
   "source": [
    "rotates"
   ]
  },
  {
   "cell_type": "code",
   "execution_count": 116,
   "metadata": {
    "collapsed": true
   },
   "outputs": [],
   "source": [
    "from scipy.spatial.distance import cdist"
   ]
  },
  {
   "cell_type": "code",
   "execution_count": 126,
   "metadata": {
    "collapsed": true
   },
   "outputs": [],
   "source": [
    "dist = cdist(frames, frames, \"euclidean\")"
   ]
  },
  {
   "cell_type": "code",
   "execution_count": 127,
   "metadata": {},
   "outputs": [
    {
     "data": {
      "text/plain": [
       "array([[    0.        ,     4.34912325,    16.58644029, ...,\n",
       "         2754.48414437,  2757.90865061,  2760.2514032 ],\n",
       "       [    4.34912325,     0.        ,    12.25645796, ...,\n",
       "         2754.32422626,  2757.75346175,  2760.10561613],\n",
       "       [   16.58644029,    12.25645796,     0.        , ...,\n",
       "         2754.00713267,  2757.44460997,  2759.82135273],\n",
       "       ..., \n",
       "       [ 2754.48414437,  2754.32422626,  2754.00713267, ...,\n",
       "            0.        ,    80.08860885,   109.35751688],\n",
       "       [ 2757.90865061,  2757.75346175,  2757.44460997, ...,\n",
       "           80.08860885,     0.        ,    36.49543191],\n",
       "       [ 2760.2514032 ,  2760.10561613,  2759.82135273, ...,\n",
       "          109.35751688,    36.49543191,     0.        ]])"
      ]
     },
     "execution_count": 127,
     "metadata": {},
     "output_type": "execute_result"
    }
   ],
   "source": [
    "dist"
   ]
  },
  {
   "cell_type": "code",
   "execution_count": 128,
   "metadata": {},
   "outputs": [
    {
     "data": {
      "text/plain": [
       "2970.9190038923916"
      ]
     },
     "execution_count": 128,
     "metadata": {},
     "output_type": "execute_result"
    }
   ],
   "source": [
    "dist.max()"
   ]
  },
  {
   "cell_type": "code",
   "execution_count": 129,
   "metadata": {},
   "outputs": [
    {
     "name": "stdout",
     "output_type": "stream",
     "text": [
      "[[ 0.          0.0014639   0.00558293 ...,  0.92714885  0.92830153\n",
      "   0.92909009]\n",
      " [ 0.0014639   0.          0.00412548 ...,  0.92709502  0.92824929\n",
      "   0.92904102]\n",
      " [ 0.00558293  0.00412548  0.         ...,  0.92698829  0.92814533\n",
      "   0.92894534]\n",
      " ..., \n",
      " [ 0.92714885  0.92709502  0.92698829 ...,  0.          0.02695752\n",
      "   0.03680932]\n",
      " [ 0.92830153  0.92824929  0.92814533 ...,  0.02695752  0.          0.01228422]\n",
      " [ 0.92909009  0.92904102  0.92894534 ...,  0.03680932  0.01228422  0.        ]]\n"
     ]
    }
   ],
   "source": [
    "print(dist/dist.max())"
   ]
  },
  {
   "cell_type": "code",
   "execution_count": 130,
   "metadata": {},
   "outputs": [
    {
     "data": {
      "image/png": "[encoded data removed]",
      "text/plain": [
       "<matplotlib.figure.Figure at 0x7ff0cf8f1a58>"
      ]
     },
     "metadata": {},
     "output_type": "display_data"
    }
   ],
   "source": [
    "# Display matrix\n",
    "plt.matshow(dist/dist.max(),cmap=plt.cm.gray_r)\n",
    "\n",
    "plt.show()"
   ]
  },
  {
   "cell_type": "code",
   "execution_count": null,
   "metadata": {
    "collapsed": true
   },
   "outputs": [],
   "source": []
  }
 ],
 "metadata": {
  "kernelspec": {
   "display_name": "Python 3",
   "language": "python",
   "name": "python3"
  },
  "language_info": {
   "codemirror_mode": {
    "name": "ipython",
    "version": 3
   },
   "file_extension": ".py",
   "mimetype": "text/x-python",
   "name": "python",
   "nbconvert_exporter": "python",
   "pygments_lexer": "ipython3",
   "version": "3.6.3"
  }
 },
 "nbformat": 4,
 "nbformat_minor": 2
}
